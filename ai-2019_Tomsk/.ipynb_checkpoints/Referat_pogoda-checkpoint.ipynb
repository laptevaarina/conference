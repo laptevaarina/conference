{
 "cells": [
  {
   "cell_type": "markdown",
   "metadata": {},
   "source": [
    "# Предсказания алгоритма машинного обучения на основе данных погоды в пгт Тайга 2015-2018 г. "
   ]
  },
  {
   "cell_type": "code",
   "execution_count": 1,
   "metadata": {},
   "outputs": [],
   "source": [
    "#импорт библиотек pandas и модуля tree из библиотеки sklearn\n",
    "import pandas as pd\n",
    "from sklearn import tree"
   ]
  },
  {
   "cell_type": "markdown",
   "metadata": {},
   "source": [
    "### Полученные данные неудобны для визуализации и формирования обучения, поэтому мы редактируем данные"
   ]
  },
  {
   "cell_type": "code",
   "execution_count": 2,
   "metadata": {},
   "outputs": [],
   "source": [
    "data = pd.read_excel('2015-2018.xls', header = 6)\n",
    "#data"
   ]
  },
  {
   "cell_type": "markdown",
   "metadata": {},
   "source": [
    "##### Исключение ненужных столбцов\n",
    "изменил столбик с осадками"
   ]
  },
  {
   "cell_type": "code",
   "execution_count": 3,
   "metadata": {
    "scrolled": true
   },
   "outputs": [],
   "source": [
    "data.drop(data.columns[[3,4,7,8,9,12,13,14,15,16,17,18,19,20,21,22,23,24,25,26,27,28]], axis=1, inplace=True)\n",
    "#data.head()"
   ]
  },
  {
   "cell_type": "markdown",
   "metadata": {},
   "source": [
    "##### Переименнование столбцов и выборка по дневным данным погоды"
   ]
  },
  {
   "cell_type": "code",
   "execution_count": 4,
   "metadata": {},
   "outputs": [],
   "source": [
    "new_data = pd.DataFrame(columns = ['date', 'temperature', 'pressure', 'humidity', 'wind', 'cloud', 'rainfall'])"
   ]
  },
  {
   "cell_type": "code",
   "execution_count": 5,
   "metadata": {},
   "outputs": [
    {
     "data": {
      "text/html": [
       "<div>\n",
       "<style scoped>\n",
       "    .dataframe tbody tr th:only-of-type {\n",
       "        vertical-align: middle;\n",
       "    }\n",
       "\n",
       "    .dataframe tbody tr th {\n",
       "        vertical-align: top;\n",
       "    }\n",
       "\n",
       "    .dataframe thead th {\n",
       "        text-align: right;\n",
       "    }\n",
       "</style>\n",
       "<table border=\"1\" class=\"dataframe\">\n",
       "  <thead>\n",
       "    <tr style=\"text-align: right;\">\n",
       "      <th></th>\n",
       "      <th>date</th>\n",
       "      <th>temperature</th>\n",
       "      <th>pressure</th>\n",
       "      <th>humidity</th>\n",
       "      <th>wind</th>\n",
       "      <th>cloud</th>\n",
       "      <th>rainfall</th>\n",
       "    </tr>\n",
       "  </thead>\n",
       "  <tbody>\n",
       "    <tr>\n",
       "      <th>0</th>\n",
       "      <td>01.01.2019 13:00</td>\n",
       "      <td>-11.8</td>\n",
       "      <td>751.4</td>\n",
       "      <td>89.0</td>\n",
       "      <td>Ветер, дующий с юго-запада</td>\n",
       "      <td>100%.</td>\n",
       "      <td>Состояние неба в общем не изменилось.</td>\n",
       "    </tr>\n",
       "    <tr>\n",
       "      <th>1</th>\n",
       "      <td>30.12.2018 13:00</td>\n",
       "      <td>-20.5</td>\n",
       "      <td>747.1</td>\n",
       "      <td>74.0</td>\n",
       "      <td>Ветер, дующий с юго-юго-востока</td>\n",
       "      <td>Облаков нет.</td>\n",
       "      <td></td>\n",
       "    </tr>\n",
       "  </tbody>\n",
       "</table>\n",
       "</div>"
      ],
      "text/plain": [
       "               date  temperature  pressure  humidity  \\\n",
       "0  01.01.2019 13:00        -11.8     751.4      89.0   \n",
       "1  30.12.2018 13:00        -20.5     747.1      74.0   \n",
       "\n",
       "                              wind         cloud  \\\n",
       "0       Ветер, дующий с юго-запада         100%.   \n",
       "1  Ветер, дующий с юго-юго-востока  Облаков нет.   \n",
       "\n",
       "                                 rainfall  \n",
       "0  Состояние неба в общем не изменилось.   \n",
       "1                                          "
      ]
     },
     "execution_count": 5,
     "metadata": {},
     "output_type": "execute_result"
    }
   ],
   "source": [
    "num = 0\n",
    "row = 0\n",
    "for i in data['Местное время в Тайге']:\n",
    "    if '13:00' in i:\n",
    "        new_data.loc[num] = [j for j in data.loc[row]]\n",
    "        num += 1\n",
    "    row += 1\n",
    "new_data[:2]"
   ]
  },
  {
   "cell_type": "markdown",
   "metadata": {},
   "source": [
    "##### Перевод данных в формат для обучения методом решающих деревьев"
   ]
  },
  {
   "cell_type": "code",
   "execution_count": 6,
   "metadata": {},
   "outputs": [],
   "source": [
    "## финкция преобразования русских слов в английские в столбике осадки\n",
    "def translate(string):\n",
    "    if ('снег' in string or 'Снег' in string) and ('дождь'in string or 'Дождь' in string):\n",
    "        return 'snow with rain'\n",
    "    elif 'снег' in string or 'Снег' in string:\n",
    "        return 'snow'\n",
    "    elif 'дождь'in string or 'Дождь' in string:\n",
    "        return 'rain'\n",
    "    elif 'дымка' in string or 'Дымка' in string:\n",
    "        return 'smoke'\n",
    "    elif 'облака'in string or 'Облака' in string:\n",
    "        return 'cloud'\n",
    "    elif 'туман'in string or 'Туман' in string:\n",
    "        return 'fog'\n",
    "    else:\n",
    "        return 'clear'"
   ]
  },
  {
   "cell_type": "code",
   "execution_count": 7,
   "metadata": {},
   "outputs": [],
   "source": [
    "# собираю отдельный  DataFrame где будут представленны название осадков на английском\n",
    "test=[]\n",
    "for k in new_data['rainfall']:\n",
    "    res = translate(k)\n",
    "    test.append(res)\n",
    "\n",
    "bufer = pd.DataFrame({'rainfall':test})\n",
    "#bufer[:2]"
   ]
  },
  {
   "cell_type": "code",
   "execution_count": 8,
   "metadata": {},
   "outputs": [],
   "source": [
    "# делаем замену столбца в исходном DataFrame\n",
    "new_data.rainfall = bufer.rainfall\n",
    "#new_data[:10]"
   ]
  },
  {
   "cell_type": "markdown",
   "metadata": {},
   "source": [
    "##### Теперь мы должны сформировать матрицу обучения(X) и вектор ответов(y)\n",
    "##### Объектом классификатора станет решающее дерево DecisionTreeClassifier из модуля tree. В скобках указывается глубина чтения данных для обучения"
   ]
  },
  {
   "cell_type": "code",
   "execution_count": 9,
   "metadata": {},
   "outputs": [],
   "source": [
    "X = new_data.loc[:, ['temperature', 'pressure', 'humidity']]\n",
    "y = new_data['rainfall']"
   ]
  },
  {
   "cell_type": "code",
   "execution_count": 10,
   "metadata": {},
   "outputs": [
    {
     "data": {
      "text/plain": [
       "DecisionTreeClassifier(class_weight=None, criterion='gini', max_depth=30,\n",
       "            max_features=None, max_leaf_nodes=None,\n",
       "            min_impurity_decrease=0.0, min_impurity_split=None,\n",
       "            min_samples_leaf=1, min_samples_split=2,\n",
       "            min_weight_fraction_leaf=0.0, presort=False, random_state=None,\n",
       "            splitter='best')"
      ]
     },
     "execution_count": 10,
     "metadata": {},
     "output_type": "execute_result"
    }
   ],
   "source": [
    "classifier = tree.DecisionTreeClassifier(max_depth = 30)\n",
    "#метод fit обучает алгоритм по обучающей выборке\n",
    "classifier.fit(X, y)"
   ]
  },
  {
   "cell_type": "markdown",
   "metadata": {},
   "source": [
    "##### Алгоритм обучения сформирован, теперь осталось проверить его предсказания"
   ]
  },
  {
   "cell_type": "code",
   "execution_count": 11,
   "metadata": {},
   "outputs": [
    {
     "name": "stdout",
     "output_type": "stream",
     "text": [
      "['clear']\n"
     ]
    }
   ],
   "source": [
    "#метод predict формирует предсказание на основе матрицы обучения\n",
    "prediction = classifier.predict([[-10, 730, 89]])\n",
    "print(prediction)"
   ]
  },
  {
   "cell_type": "markdown",
   "metadata": {},
   "source": [
    "##### Алгоритм выдаёт нам предсказания. Но какой процент ошибки в них? Это мы можем выяснить с помощью метода k ближайших соседей(kNN)"
   ]
  },
  {
   "cell_type": "code",
   "execution_count": 12,
   "metadata": {},
   "outputs": [],
   "source": [
    "from sklearn.neighbors import KNeighborsClassifier\n",
    "import numpy as np"
   ]
  },
  {
   "cell_type": "code",
   "execution_count": 13,
   "metadata": {},
   "outputs": [
    {
     "data": {
      "text/plain": [
       "KNeighborsClassifier(algorithm='auto', leaf_size=30, metric='minkowski',\n",
       "           metric_params=None, n_jobs=1, n_neighbors=3, p=2,\n",
       "           weights='uniform')"
      ]
     },
     "execution_count": 13,
     "metadata": {},
     "output_type": "execute_result"
    }
   ],
   "source": [
    "knn = KNeighborsClassifier(n_neighbors=3)\n",
    "knn.fit(X, y)"
   ]
  },
  {
   "cell_type": "markdown",
   "metadata": {},
   "source": [
    "##### После того, как модель обучена, мы можем предсказывать значение целевого признака по входным признакам для новых объектов. Делается это с помощью метода predict.\n",
    "##### Как мы можем видеть ошибка составляет 18.4% у обучающей выборки."
   ]
  },
  {
   "cell_type": "code",
   "execution_count": 14,
   "metadata": {},
   "outputs": [
    {
     "name": "stdout",
     "output_type": "stream",
     "text": [
      "0.11355735805330243\n"
     ]
    }
   ],
   "source": [
    "y_predict = knn.predict(X)\n",
    "err = np.mean(y != y_predict) #метод mean библиотеки numpy определяет среднее арифметическое по заданному вектору\n",
    "print(err)"
   ]
  },
  {
   "cell_type": "code",
   "execution_count": null,
   "metadata": {},
   "outputs": [],
   "source": []
  }
 ],
 "metadata": {
  "kernelspec": {
   "display_name": "Python 3",
   "language": "python",
   "name": "python3"
  },
  "language_info": {
   "codemirror_mode": {
    "name": "ipython",
    "version": 3
   },
   "file_extension": ".py",
   "mimetype": "text/x-python",
   "name": "python",
   "nbconvert_exporter": "python",
   "pygments_lexer": "ipython3",
   "version": "3.6.4"
  }
 },
 "nbformat": 4,
 "nbformat_minor": 2
}
